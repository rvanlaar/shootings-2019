{
 "cells": [
  {
   "cell_type": "markdown",
   "metadata": {},
   "source": [
    "#Statistics on fatal shootings in 2019\n",
    "Data comes from the WashingtonPost: https://github.com/washingtonpost/data-police-shootings"
   ]
  },
  {
   "cell_type": "code",
   "execution_count": 5,
   "metadata": {},
   "outputs": [],
   "source": [
    "import csv"
   ]
  },
  {
   "cell_type": "code",
   "execution_count": 6,
   "metadata": {},
   "outputs": [],
   "source": [
    "csv_file = open(\"fatal-police-shootings-data.csv\")\n",
    "csv_data = csv.DictReader(csv_file)"
   ]
  },
  {
   "cell_type": "raw",
   "metadata": {},
   "source": [
    "Filter on the year 2019"
   ]
  },
  {
   "cell_type": "code",
   "execution_count": 7,
   "metadata": {},
   "outputs": [],
   "source": [
    "year_2019 = [entry for entry in csv_data if entry['date'].startswith('2019')]"
   ]
  },
  {
   "cell_type": "raw",
   "metadata": {},
   "source": [
    "Filter on all whites and on unarmed whites"
   ]
  },
  {
   "cell_type": "code",
   "execution_count": 8,
   "metadata": {},
   "outputs": [],
   "source": [
    "whites = [entry for entry in year_2019 if entry['race'] ==\"W\"]\n",
    "unarmed_whites = [entry for entry in whites if entry['armed'] == 'unarmed']"
   ]
  },
  {
   "cell_type": "raw",
   "metadata": {},
   "source": [
    "Do the same for blacks"
   ]
  },
  {
   "cell_type": "code",
   "execution_count": 9,
   "metadata": {},
   "outputs": [],
   "source": [
    "blacks = [entry for entry in year_2019 if entry['race'] ==\"B\"]\n",
    "unarmed_blacks = [entry for entry in blacks if entry['armed'] == 'unarmed']"
   ]
  },
  {
   "cell_type": "raw",
   "metadata": {},
   "source": [
    "Print all data"
   ]
  },
  {
   "cell_type": "code",
   "execution_count": 27,
   "metadata": {},
   "outputs": [
    {
     "name": "stdout",
     "output_type": "stream",
     "text": [
      "403 white suspects killed\n",
      "25 white suspects were unarmed\n",
      "250 black people were killed\n",
      "14 black suspects were unarmed\n",
      "6.2% of white suspects killed were unarmed\n",
      "5.6% of black suspects killed were unarmed\n"
     ]
    }
   ],
   "source": [
    "print(\"%s white suspects killed\" % len(whites))\n",
    "print(\"%s white suspects were unarmed\" % len(unarmed_whites))\n",
    "print(\"%s black people were killed\" % len(blacks))\n",
    "print(\"%s black suspects were unarmed\" % len(unarmed_blacks))\n",
    "print(\"%.1f%% of white suspects killed were unarmed\" % ((len(unarmed_whites)/len(whites)) * 100))\n",
    "print(\"%.1f%% of black suspects killed were unarmed\" % ((len(unarmed_blacks)/len(blacks)) * 100))"
   ]
  }
 ],
 "metadata": {
  "kernelspec": {
   "display_name": "Python 3",
   "language": "python",
   "name": "python3"
  },
  "language_info": {
   "codemirror_mode": {
    "name": "ipython",
    "version": 3
   },
   "file_extension": ".py",
   "mimetype": "text/x-python",
   "name": "python",
   "nbconvert_exporter": "python",
   "pygments_lexer": "ipython3",
   "version": "3.7.8"
  }
 },
 "nbformat": 4,
 "nbformat_minor": 4
}
